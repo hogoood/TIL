{
 "cells": [
  {
   "cell_type": "code",
   "execution_count": 1,
   "metadata": {},
   "outputs": [],
   "source": [
    "import pandas as pd\n",
    "import numpy as np\n",
    "import matplotlib as mpl\n",
    "import matplotlib.pyplot as plt\n",
    "\n",
    "%matplotlib inline\n",
    "\n",
    "# 한글폰트 사용시 그래프에서 마이너스 폰트 깨지는 문제에 대한 대처\n",
    "mpl.rcParams['axes.unicode_minus'] = False"
   ]
  },
  {
   "cell_type": "code",
   "execution_count": 5,
   "metadata": {},
   "outputs": [
    {
     "data": {
      "text/html": [
       "<div>\n",
       "<style scoped>\n",
       "    .dataframe tbody tr th:only-of-type {\n",
       "        vertical-align: middle;\n",
       "    }\n",
       "\n",
       "    .dataframe tbody tr th {\n",
       "        vertical-align: top;\n",
       "    }\n",
       "\n",
       "    .dataframe thead th {\n",
       "        text-align: right;\n",
       "    }\n",
       "</style>\n",
       "<table border=\"1\" class=\"dataframe\">\n",
       "  <thead>\n",
       "    <tr style=\"text-align: right;\">\n",
       "      <th></th>\n",
       "      <th>a</th>\n",
       "      <th>b</th>\n",
       "      <th>c</th>\n",
       "      <th>d</th>\n",
       "    </tr>\n",
       "  </thead>\n",
       "  <tbody>\n",
       "    <tr>\n",
       "      <th>0</th>\n",
       "      <td>0.965275</td>\n",
       "      <td>0.622150</td>\n",
       "      <td>0.077606</td>\n",
       "      <td>0.100321</td>\n",
       "    </tr>\n",
       "    <tr>\n",
       "      <th>1</th>\n",
       "      <td>0.021427</td>\n",
       "      <td>0.783600</td>\n",
       "      <td>0.791168</td>\n",
       "      <td>0.283852</td>\n",
       "    </tr>\n",
       "    <tr>\n",
       "      <th>2</th>\n",
       "      <td>0.920341</td>\n",
       "      <td>0.472493</td>\n",
       "      <td>0.863241</td>\n",
       "      <td>0.643786</td>\n",
       "    </tr>\n",
       "    <tr>\n",
       "      <th>3</th>\n",
       "      <td>0.907296</td>\n",
       "      <td>0.040916</td>\n",
       "      <td>0.207729</td>\n",
       "      <td>0.361405</td>\n",
       "    </tr>\n",
       "    <tr>\n",
       "      <th>4</th>\n",
       "      <td>0.106090</td>\n",
       "      <td>0.106834</td>\n",
       "      <td>0.191341</td>\n",
       "      <td>0.793529</td>\n",
       "    </tr>\n",
       "    <tr>\n",
       "      <th>5</th>\n",
       "      <td>0.927551</td>\n",
       "      <td>0.734191</td>\n",
       "      <td>0.940990</td>\n",
       "      <td>0.698420</td>\n",
       "    </tr>\n",
       "    <tr>\n",
       "      <th>6</th>\n",
       "      <td>0.904420</td>\n",
       "      <td>0.457686</td>\n",
       "      <td>0.306461</td>\n",
       "      <td>0.220764</td>\n",
       "    </tr>\n",
       "    <tr>\n",
       "      <th>7</th>\n",
       "      <td>0.883388</td>\n",
       "      <td>0.115278</td>\n",
       "      <td>0.525176</td>\n",
       "      <td>0.487732</td>\n",
       "    </tr>\n",
       "    <tr>\n",
       "      <th>8</th>\n",
       "      <td>0.700953</td>\n",
       "      <td>0.798685</td>\n",
       "      <td>0.422158</td>\n",
       "      <td>0.303243</td>\n",
       "    </tr>\n",
       "    <tr>\n",
       "      <th>9</th>\n",
       "      <td>0.841356</td>\n",
       "      <td>0.770195</td>\n",
       "      <td>0.346160</td>\n",
       "      <td>0.204339</td>\n",
       "    </tr>\n",
       "    <tr>\n",
       "      <th>10</th>\n",
       "      <td>0.760204</td>\n",
       "      <td>0.579176</td>\n",
       "      <td>0.330092</td>\n",
       "      <td>0.192705</td>\n",
       "    </tr>\n",
       "    <tr>\n",
       "      <th>11</th>\n",
       "      <td>0.666080</td>\n",
       "      <td>0.037369</td>\n",
       "      <td>0.305532</td>\n",
       "      <td>0.636382</td>\n",
       "    </tr>\n",
       "    <tr>\n",
       "      <th>12</th>\n",
       "      <td>0.270164</td>\n",
       "      <td>0.792729</td>\n",
       "      <td>0.228219</td>\n",
       "      <td>0.891585</td>\n",
       "    </tr>\n",
       "    <tr>\n",
       "      <th>13</th>\n",
       "      <td>0.852328</td>\n",
       "      <td>0.418946</td>\n",
       "      <td>0.029530</td>\n",
       "      <td>0.283092</td>\n",
       "    </tr>\n",
       "    <tr>\n",
       "      <th>14</th>\n",
       "      <td>0.419189</td>\n",
       "      <td>0.617703</td>\n",
       "      <td>0.767413</td>\n",
       "      <td>0.527939</td>\n",
       "    </tr>\n",
       "    <tr>\n",
       "      <th>15</th>\n",
       "      <td>0.660049</td>\n",
       "      <td>0.466506</td>\n",
       "      <td>0.462039</td>\n",
       "      <td>0.161451</td>\n",
       "    </tr>\n",
       "    <tr>\n",
       "      <th>16</th>\n",
       "      <td>0.013257</td>\n",
       "      <td>0.231822</td>\n",
       "      <td>0.949444</td>\n",
       "      <td>0.411942</td>\n",
       "    </tr>\n",
       "    <tr>\n",
       "      <th>17</th>\n",
       "      <td>0.576183</td>\n",
       "      <td>0.262222</td>\n",
       "      <td>0.920578</td>\n",
       "      <td>0.816024</td>\n",
       "    </tr>\n",
       "    <tr>\n",
       "      <th>18</th>\n",
       "      <td>0.259622</td>\n",
       "      <td>0.148194</td>\n",
       "      <td>0.879224</td>\n",
       "      <td>0.824777</td>\n",
       "    </tr>\n",
       "    <tr>\n",
       "      <th>19</th>\n",
       "      <td>0.942851</td>\n",
       "      <td>0.610497</td>\n",
       "      <td>0.560913</td>\n",
       "      <td>0.181164</td>\n",
       "    </tr>\n",
       "    <tr>\n",
       "      <th>20</th>\n",
       "      <td>0.022187</td>\n",
       "      <td>0.046325</td>\n",
       "      <td>0.969769</td>\n",
       "      <td>0.698980</td>\n",
       "    </tr>\n",
       "    <tr>\n",
       "      <th>21</th>\n",
       "      <td>0.519693</td>\n",
       "      <td>0.673758</td>\n",
       "      <td>0.047753</td>\n",
       "      <td>0.278979</td>\n",
       "    </tr>\n",
       "    <tr>\n",
       "      <th>22</th>\n",
       "      <td>0.350555</td>\n",
       "      <td>0.460790</td>\n",
       "      <td>0.547367</td>\n",
       "      <td>0.549588</td>\n",
       "    </tr>\n",
       "    <tr>\n",
       "      <th>23</th>\n",
       "      <td>0.759124</td>\n",
       "      <td>0.749868</td>\n",
       "      <td>0.708454</td>\n",
       "      <td>0.549456</td>\n",
       "    </tr>\n",
       "    <tr>\n",
       "      <th>24</th>\n",
       "      <td>0.594305</td>\n",
       "      <td>0.385064</td>\n",
       "      <td>0.701400</td>\n",
       "      <td>0.090632</td>\n",
       "    </tr>\n",
       "    <tr>\n",
       "      <th>25</th>\n",
       "      <td>0.875093</td>\n",
       "      <td>0.873293</td>\n",
       "      <td>0.573538</td>\n",
       "      <td>0.393933</td>\n",
       "    </tr>\n",
       "    <tr>\n",
       "      <th>26</th>\n",
       "      <td>0.163842</td>\n",
       "      <td>0.576720</td>\n",
       "      <td>0.823179</td>\n",
       "      <td>0.341560</td>\n",
       "    </tr>\n",
       "    <tr>\n",
       "      <th>27</th>\n",
       "      <td>0.031926</td>\n",
       "      <td>0.790685</td>\n",
       "      <td>0.411885</td>\n",
       "      <td>0.142104</td>\n",
       "    </tr>\n",
       "    <tr>\n",
       "      <th>28</th>\n",
       "      <td>0.351080</td>\n",
       "      <td>0.688994</td>\n",
       "      <td>0.590078</td>\n",
       "      <td>0.270896</td>\n",
       "    </tr>\n",
       "    <tr>\n",
       "      <th>29</th>\n",
       "      <td>0.264693</td>\n",
       "      <td>0.245105</td>\n",
       "      <td>0.523157</td>\n",
       "      <td>0.015410</td>\n",
       "    </tr>\n",
       "    <tr>\n",
       "      <th>30</th>\n",
       "      <td>0.524553</td>\n",
       "      <td>0.067030</td>\n",
       "      <td>0.816830</td>\n",
       "      <td>0.396992</td>\n",
       "    </tr>\n",
       "    <tr>\n",
       "      <th>31</th>\n",
       "      <td>0.198693</td>\n",
       "      <td>0.286238</td>\n",
       "      <td>0.206715</td>\n",
       "      <td>0.489060</td>\n",
       "    </tr>\n",
       "    <tr>\n",
       "      <th>32</th>\n",
       "      <td>0.146981</td>\n",
       "      <td>0.963251</td>\n",
       "      <td>0.703553</td>\n",
       "      <td>0.992467</td>\n",
       "    </tr>\n",
       "    <tr>\n",
       "      <th>33</th>\n",
       "      <td>0.642329</td>\n",
       "      <td>0.299137</td>\n",
       "      <td>0.594122</td>\n",
       "      <td>0.926462</td>\n",
       "    </tr>\n",
       "    <tr>\n",
       "      <th>34</th>\n",
       "      <td>0.217996</td>\n",
       "      <td>0.022982</td>\n",
       "      <td>0.779505</td>\n",
       "      <td>0.652657</td>\n",
       "    </tr>\n",
       "    <tr>\n",
       "      <th>35</th>\n",
       "      <td>0.266884</td>\n",
       "      <td>0.985064</td>\n",
       "      <td>0.200918</td>\n",
       "      <td>0.341802</td>\n",
       "    </tr>\n",
       "    <tr>\n",
       "      <th>36</th>\n",
       "      <td>0.836491</td>\n",
       "      <td>0.580070</td>\n",
       "      <td>0.930819</td>\n",
       "      <td>0.252535</td>\n",
       "    </tr>\n",
       "    <tr>\n",
       "      <th>37</th>\n",
       "      <td>0.654007</td>\n",
       "      <td>0.852721</td>\n",
       "      <td>0.566677</td>\n",
       "      <td>0.218955</td>\n",
       "    </tr>\n",
       "    <tr>\n",
       "      <th>38</th>\n",
       "      <td>0.639796</td>\n",
       "      <td>0.397576</td>\n",
       "      <td>0.049427</td>\n",
       "      <td>0.576967</td>\n",
       "    </tr>\n",
       "    <tr>\n",
       "      <th>39</th>\n",
       "      <td>0.927583</td>\n",
       "      <td>0.124983</td>\n",
       "      <td>0.945334</td>\n",
       "      <td>0.247994</td>\n",
       "    </tr>\n",
       "    <tr>\n",
       "      <th>40</th>\n",
       "      <td>0.551675</td>\n",
       "      <td>0.468326</td>\n",
       "      <td>0.456024</td>\n",
       "      <td>0.495995</td>\n",
       "    </tr>\n",
       "    <tr>\n",
       "      <th>41</th>\n",
       "      <td>0.724594</td>\n",
       "      <td>0.743537</td>\n",
       "      <td>0.298975</td>\n",
       "      <td>0.719930</td>\n",
       "    </tr>\n",
       "    <tr>\n",
       "      <th>42</th>\n",
       "      <td>0.275382</td>\n",
       "      <td>0.384032</td>\n",
       "      <td>0.527313</td>\n",
       "      <td>0.727899</td>\n",
       "    </tr>\n",
       "    <tr>\n",
       "      <th>43</th>\n",
       "      <td>0.318765</td>\n",
       "      <td>0.410428</td>\n",
       "      <td>0.274974</td>\n",
       "      <td>0.059784</td>\n",
       "    </tr>\n",
       "    <tr>\n",
       "      <th>44</th>\n",
       "      <td>0.019836</td>\n",
       "      <td>0.545813</td>\n",
       "      <td>0.160899</td>\n",
       "      <td>0.525329</td>\n",
       "    </tr>\n",
       "    <tr>\n",
       "      <th>45</th>\n",
       "      <td>0.972316</td>\n",
       "      <td>0.633186</td>\n",
       "      <td>0.747670</td>\n",
       "      <td>0.680703</td>\n",
       "    </tr>\n",
       "    <tr>\n",
       "      <th>46</th>\n",
       "      <td>0.946740</td>\n",
       "      <td>0.818996</td>\n",
       "      <td>0.281122</td>\n",
       "      <td>0.303427</td>\n",
       "    </tr>\n",
       "    <tr>\n",
       "      <th>47</th>\n",
       "      <td>0.594375</td>\n",
       "      <td>0.165006</td>\n",
       "      <td>0.211486</td>\n",
       "      <td>0.215986</td>\n",
       "    </tr>\n",
       "    <tr>\n",
       "      <th>48</th>\n",
       "      <td>0.793696</td>\n",
       "      <td>0.831588</td>\n",
       "      <td>0.643994</td>\n",
       "      <td>0.046656</td>\n",
       "    </tr>\n",
       "    <tr>\n",
       "      <th>49</th>\n",
       "      <td>0.465112</td>\n",
       "      <td>0.519544</td>\n",
       "      <td>0.551112</td>\n",
       "      <td>0.927557</td>\n",
       "    </tr>\n",
       "  </tbody>\n",
       "</table>\n",
       "</div>"
      ],
      "text/plain": [
       "           a         b         c         d\n",
       "0   0.965275  0.622150  0.077606  0.100321\n",
       "1   0.021427  0.783600  0.791168  0.283852\n",
       "2   0.920341  0.472493  0.863241  0.643786\n",
       "3   0.907296  0.040916  0.207729  0.361405\n",
       "4   0.106090  0.106834  0.191341  0.793529\n",
       "5   0.927551  0.734191  0.940990  0.698420\n",
       "6   0.904420  0.457686  0.306461  0.220764\n",
       "7   0.883388  0.115278  0.525176  0.487732\n",
       "8   0.700953  0.798685  0.422158  0.303243\n",
       "9   0.841356  0.770195  0.346160  0.204339\n",
       "10  0.760204  0.579176  0.330092  0.192705\n",
       "11  0.666080  0.037369  0.305532  0.636382\n",
       "12  0.270164  0.792729  0.228219  0.891585\n",
       "13  0.852328  0.418946  0.029530  0.283092\n",
       "14  0.419189  0.617703  0.767413  0.527939\n",
       "15  0.660049  0.466506  0.462039  0.161451\n",
       "16  0.013257  0.231822  0.949444  0.411942\n",
       "17  0.576183  0.262222  0.920578  0.816024\n",
       "18  0.259622  0.148194  0.879224  0.824777\n",
       "19  0.942851  0.610497  0.560913  0.181164\n",
       "20  0.022187  0.046325  0.969769  0.698980\n",
       "21  0.519693  0.673758  0.047753  0.278979\n",
       "22  0.350555  0.460790  0.547367  0.549588\n",
       "23  0.759124  0.749868  0.708454  0.549456\n",
       "24  0.594305  0.385064  0.701400  0.090632\n",
       "25  0.875093  0.873293  0.573538  0.393933\n",
       "26  0.163842  0.576720  0.823179  0.341560\n",
       "27  0.031926  0.790685  0.411885  0.142104\n",
       "28  0.351080  0.688994  0.590078  0.270896\n",
       "29  0.264693  0.245105  0.523157  0.015410\n",
       "30  0.524553  0.067030  0.816830  0.396992\n",
       "31  0.198693  0.286238  0.206715  0.489060\n",
       "32  0.146981  0.963251  0.703553  0.992467\n",
       "33  0.642329  0.299137  0.594122  0.926462\n",
       "34  0.217996  0.022982  0.779505  0.652657\n",
       "35  0.266884  0.985064  0.200918  0.341802\n",
       "36  0.836491  0.580070  0.930819  0.252535\n",
       "37  0.654007  0.852721  0.566677  0.218955\n",
       "38  0.639796  0.397576  0.049427  0.576967\n",
       "39  0.927583  0.124983  0.945334  0.247994\n",
       "40  0.551675  0.468326  0.456024  0.495995\n",
       "41  0.724594  0.743537  0.298975  0.719930\n",
       "42  0.275382  0.384032  0.527313  0.727899\n",
       "43  0.318765  0.410428  0.274974  0.059784\n",
       "44  0.019836  0.545813  0.160899  0.525329\n",
       "45  0.972316  0.633186  0.747670  0.680703\n",
       "46  0.946740  0.818996  0.281122  0.303427\n",
       "47  0.594375  0.165006  0.211486  0.215986\n",
       "48  0.793696  0.831588  0.643994  0.046656\n",
       "49  0.465112  0.519544  0.551112  0.927557"
      ]
     },
     "execution_count": 5,
     "metadata": {},
     "output_type": "execute_result"
    }
   ],
   "source": [
    " df = pd.DataFrame(np.random.rand(50, 4), columns=['a', 'b', 'c', 'd'])\n",
    "df"
   ]
  },
  {
   "cell_type": "code",
   "execution_count": 8,
   "metadata": {},
   "outputs": [
    {
     "data": {
      "text/plain": [
       "<matplotlib.axes._subplots.AxesSubplot at 0x178f1808dc8>"
      ]
     },
     "execution_count": 8,
     "metadata": {},
     "output_type": "execute_result"
    },
    {
     "data": {
      "image/png": "[encoded data removed]",
      "text/plain": [
       "<Figure size 432x288 with 1 Axes>"
      ]
     },
     "metadata": {
      "needs_background": "light"
     },
     "output_type": "display_data"
    }
   ],
   "source": [
    "df.plot.scatter(x = 'a', y = 'b', s = 30, grid = True)"
   ]
  },
  {
   "cell_type": "code",
   "execution_count": 10,
   "metadata": {},
   "outputs": [
    {
     "data": {
      "text/plain": [
       "<matplotlib.axes._subplots.AxesSubplot at 0x178f1af5e88>"
      ]
     },
     "execution_count": 10,
     "metadata": {},
     "output_type": "execute_result"
    },
    {
     "data": {
      "image/png": "[encoded data removed]",
      "text/plain": [
       "<Figure size 432x288 with 1 Axes>"
      ]
     },
     "metadata": {
      "needs_background": "light"
     },
     "output_type": "display_data"
    }
   ],
   "source": [
    "ax = df.plot.scatter(x='a', y='b', color='DarkRed', label='Group 1')\n",
    "df.plot.scatter(x='c', y='d', color='DarkGreen', label='Group 2', ax=ax)"
   ]
  },
  {
   "cell_type": "code",
   "execution_count": 11,
   "metadata": {},
   "outputs": [
    {
     "data": {
      "text/plain": [
       "<matplotlib.axes._subplots.AxesSubplot at 0x178f1c603c8>"
      ]
     },
     "execution_count": 11,
     "metadata": {},
     "output_type": "execute_result"
    },
    {
     "data": {
      "image/png": "[encoded data removed]",
      "text/plain": [
       "<Figure size 432x288 with 2 Axes>"
      ]
     },
     "metadata": {
      "needs_background": "light"
     },
     "output_type": "display_data"
    }
   ],
   "source": [
    "df.plot.scatter(x='a', y='b', c='c', s=50)\n",
    "# s는 점의 크기입니다."
   ]
  },
  {
   "cell_type": "code",
   "execution_count": 13,
   "metadata": {},
   "outputs": [
    {
     "data": {
      "text/plain": [
       "<matplotlib.axes._subplots.AxesSubplot at 0x178f213a9c8>"
      ]
     },
     "execution_count": 13,
     "metadata": {},
     "output_type": "execute_result"
    },
    {
     "data": {
      "image/png": "[encoded data removed]",
      "text/plain": [
       "<Figure size 432x288 with 2 Axes>"
      ]
     },
     "metadata": {
      "needs_background": "light"
     },
     "output_type": "display_data"
    }
   ],
   "source": [
    "df.plot.scatter(x='a', y='b', c='c', s=100)"
   ]
  },
  {
   "cell_type": "code",
   "execution_count": 12,
   "metadata": {},
   "outputs": [
    {
     "data": {
      "text/plain": [
       "<matplotlib.axes._subplots.AxesSubplot at 0x178f1ffa088>"
      ]
     },
     "execution_count": 12,
     "metadata": {},
     "output_type": "execute_result"
    },
    {
     "data": {
      "image/png": "[encoded data removed]",
      "text/plain": [
       "<Figure size 432x288 with 1 Axes>"
      ]
     },
     "metadata": {
      "needs_background": "light"
     },
     "output_type": "display_data"
    }
   ],
   "source": [
    "df.plot.scatter(x='a', y='b', s=df['c'] * 200)\n",
    "# c컬럼만 200을 곱해서 더 크게 표현합니다"
   ]
  }
 ],
 "metadata": {
  "kernelspec": {
   "display_name": "Python 3",
   "language": "python",
   "name": "python3"
  },
  "language_info": {
   "codemirror_mode": {
    "name": "ipython",
    "version": 3
   },
   "file_extension": ".py",
   "mimetype": "text/x-python",
   "name": "python",
   "nbconvert_exporter": "python",
   "pygments_lexer": "ipython3",
   "version": "3.7.6"
  },
  "toc": {
   "base_numbering": 1,
   "nav_menu": {},
   "number_sections": true,
   "sideBar": true,
   "skip_h1_title": false,
   "title_cell": "Table of Contents",
   "title_sidebar": "Contents",
   "toc_cell": false,
   "toc_position": {},
   "toc_section_display": true,
   "toc_window_display": false
  }
 },
 "nbformat": 4,
 "nbformat_minor": 4
}
